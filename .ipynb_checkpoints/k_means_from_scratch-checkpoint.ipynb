{
 "cells": [
  {
   "cell_type": "code",
   "execution_count": 1,
   "metadata": {},
   "outputs": [],
   "source": [
    "import numpy as np\n",
    "from matplotlib import style\n",
    "import matplotlib.pyplot as plt\n",
    "from sklearn import preprocessing\n",
    "import pandas as pd"
   ]
  },
  {
   "cell_type": "code",
   "execution_count": 100,
   "metadata": {},
   "outputs": [
    {
     "data": {
      "image/png": "[encoded data removed]",
      "text/plain": [
       "<Figure size 432x288 with 1 Axes>"
      ]
     },
     "metadata": {},
     "output_type": "display_data"
    }
   ],
   "source": [
    "style.use('ggplot')\n",
    "xs = np.array([[1, 2],[1.5, 1.8],[5, 8],[8, 8],[1, 0.6],[9, 11]])\n",
    "plt.scatter(xs[:,0],xs[:,1],s=50,linewidths=5)\n",
    "plt.show()"
   ]
  },
  {
   "cell_type": "code",
   "execution_count": 101,
   "metadata": {},
   "outputs": [],
   "source": [
    "class KMeans:\n",
    "    def __init__(self,k=2,tol=0.001,max_iter=300):#tol and max_iter are exit conditions for out algorithm\n",
    "        self.k = k\n",
    "        self.tol = tol\n",
    "        self.max_iter = max_iter\n",
    "    def train(self,data):\n",
    "        self.means= {}\n",
    "        for i in range(self.k):\n",
    "            self.means[i] = data[i] #initializing the means\n",
    "        for i in range(self.max_iter):\n",
    "            self.clusters = {} #initializing clusters dictionary\n",
    "            for j in range(self.k):\n",
    "                self.clusters[j] = [] #initializing clusters\n",
    "            for x in data:\n",
    "                distances=[]\n",
    "                for mean in self.means:\n",
    "                    distances.append(np.linalg.norm(x-self.means[mean]))\n",
    "                    cluster = distances.index(min(distances))\n",
    "                    self.clusters[cluster].append(x)\n",
    "            prev_means = dict(self.means) #for comparing with new ones to define tolerance condition\n",
    "            for cluster in self.clusters:\n",
    "                self.means[cluster] = np.average(self.clusters[cluster],axis=0)\n",
    "            finished = True\n",
    "            for mean in self.means:\n",
    "                if (np.sum(self.means[mean]-prev_means[mean])>self.tol):\n",
    "                    finished =False\n",
    "            if (finished):\n",
    "                break\n",
    "                \n",
    "    def predict(self,data):\n",
    "        distances=[]\n",
    "        for mean in self.means:\n",
    "            distances.append(np.linalg.norm(data-self.means[mean]))\n",
    "            cluster = distances.index(min(distances))\n",
    "        return cluster\n",
    "\n",
    "    "
   ]
  },
  {
   "cell_type": "code",
   "execution_count": 102,
   "metadata": {},
   "outputs": [],
   "source": [
    "classifier = KMeans()\n",
    "classifier.train(xs)"
   ]
  },
  {
   "cell_type": "code",
   "execution_count": 103,
   "metadata": {},
   "outputs": [
    {
     "name": "stdout",
     "output_type": "stream",
     "text": [
      "[3.22222222 3.97777778]\n",
      "[7.33333333 9.        ]\n"
     ]
    },
    {
     "data": {
      "image/png": "[encoded data removed]",
      "text/plain": [
       "<Figure size 432x288 with 1 Axes>"
      ]
     },
     "metadata": {},
     "output_type": "display_data"
    }
   ],
   "source": [
    "#plotting\n",
    "for mean in classifier.means:\n",
    "    print(classifier.means[mean])\n",
    "    plt.scatter(classifier.means[mean][0],classifier.means[mean][1],c='r',s=50,marker='o',linewidths=5)\n",
    "\n",
    "for cluster in classifier.clusters:\n",
    "    for x in classifier.clusters[cluster]:\n",
    "        plt.scatter(x[0],x[1],c=str(cluster/2),marker='x',s=50,linewidths=5)\n",
    "\n",
    "plt.show()"
   ]
  },
  {
   "cell_type": "code",
   "execution_count": null,
   "metadata": {},
   "outputs": [],
   "source": []
  }
 ],
 "metadata": {
  "kernelspec": {
   "display_name": "Python 3",
   "language": "python",
   "name": "python3"
  },
  "language_info": {
   "codemirror_mode": {
    "name": "ipython",
    "version": 3
   },
   "file_extension": ".py",
   "mimetype": "text/x-python",
   "name": "python",
   "nbconvert_exporter": "python",
   "pygments_lexer": "ipython3",
   "version": "3.7.3"
  }
 },
 "nbformat": 4,
 "nbformat_minor": 2
}
